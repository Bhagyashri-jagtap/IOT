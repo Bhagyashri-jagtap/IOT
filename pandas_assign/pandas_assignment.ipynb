{
 "cells": [
  {
   "cell_type": "code",
   "execution_count": 33,
   "id": "f1061e46-009b-4980-ac9e-b04aef8ca514",
   "metadata": {},
   "outputs": [],
   "source": [
    "import numpy as np\n",
    "import pandas as pd"
   ]
  },
  {
   "cell_type": "code",
   "execution_count": 34,
   "id": "272c4a16-2941-4605-8adf-ffee46935e56",
   "metadata": {},
   "outputs": [],
   "source": [
    "def q1():\n",
    "    print(\"Question 1\")\n",
    "    data= [1,2,3,4,5]\n",
    "    ex1 = pd.Series(data)\n",
    "    n1= np.array(ex1)\n",
    "    print(n1)"
   ]
  },
  {
   "cell_type": "code",
   "execution_count": 35,
   "id": "65bc72d2-14af-498b-9ed2-04eea10278ac",
   "metadata": {},
   "outputs": [
    {
     "name": "stdout",
     "output_type": "stream",
     "text": [
      "Question 1\n",
      "[1 2 3 4 5]\n"
     ]
    }
   ],
   "source": [
    "q1()"
   ]
  },
  {
   "cell_type": "code",
   "execution_count": 36,
   "id": "428a475a-43b5-4b88-9d9a-845da7bae427",
   "metadata": {},
   "outputs": [
    {
     "name": "stdout",
     "output_type": "stream",
     "text": [
      "question 2\n",
      "[0     6\n",
      "1    52\n",
      "2    98\n",
      "3    46\n",
      "dtype: int64]\n"
     ]
    }
   ],
   "source": [
    "def q2():\n",
    "    print(\"question 2\")\n",
    "    p1 = pd.Series([6,52,98,46])\n",
    "    l1 = [p1]\n",
    "    print(l1)\n",
    "q2()"
   ]
  },
  {
   "cell_type": "code",
   "execution_count": 37,
   "id": "e1ce1efe-f1bb-47c4-a573-77f1f795ec73",
   "metadata": {},
   "outputs": [],
   "source": [
    "def q3():\n",
    "    print(\"question 3\")\n",
    "    l1= [2,4,6,8,10]\n",
    "    l2= [1,3,5,7,9]\n",
    "    p1 = pd.Series(l1)\n",
    "    print(f\"Pandas series1{p1}\")\n",
    "    p2 = pd.Series(l2)\n",
    "    print(\"pandas series{p2}\")\n",
    "    print(f\"addition of series 1 and 2\")\n",
    "    print(p1+p2)\n",
    "    print(f\"subtraction of series 1 and series 2\")\n",
    "    print(p1-p2)\n",
    "    print(f\"Multipliction of series 1 and series 2\")\n",
    "    print(p1*p2)\n",
    "    print(f\"Division of series 1 and 2\")\n",
    "    print(p1/p2)\n",
    "    "
   ]
  },
  {
   "cell_type": "code",
   "execution_count": 38,
   "id": "288032d0-afb1-4449-990c-ce2083244cc0",
   "metadata": {},
   "outputs": [
    {
     "name": "stdout",
     "output_type": "stream",
     "text": [
      "question 3\n",
      "Pandas series10     2\n",
      "1     4\n",
      "2     6\n",
      "3     8\n",
      "4    10\n",
      "dtype: int64\n",
      "pandas series{p2}\n",
      "addition of series 1 and 2\n",
      "0     3\n",
      "1     7\n",
      "2    11\n",
      "3    15\n",
      "4    19\n",
      "dtype: int64\n",
      "subtraction of series 1 and series 2\n",
      "0    1\n",
      "1    1\n",
      "2    1\n",
      "3    1\n",
      "4    1\n",
      "dtype: int64\n",
      "Multipliction of series 1 and series 2\n",
      "0     2\n",
      "1    12\n",
      "2    30\n",
      "3    56\n",
      "4    90\n",
      "dtype: int64\n",
      "Division of series 1 and 2\n",
      "0    2.000000\n",
      "1    1.333333\n",
      "2    1.200000\n",
      "3    1.142857\n",
      "4    1.111111\n",
      "dtype: float64\n"
     ]
    }
   ],
   "source": [
    "q3()"
   ]
  },
  {
   "cell_type": "code",
   "execution_count": 39,
   "id": "75910ad6-5edd-48e5-8909-c4d948e96047",
   "metadata": {},
   "outputs": [],
   "source": [
    "def q4():\n",
    "    print(\"question 4\")\n",
    "    d1 = {\"Name\":\"Bhagyashri\",\"Age\":\"23\",\"city\":\"Nashik\"}\n",
    "    p1 = pd.Series(d1)\n",
    "    print(\"Series\")\n",
    "    print(p1)"
   ]
  },
  {
   "cell_type": "code",
   "execution_count": 40,
   "id": "1b94aabc-88fd-47f3-9a4b-8b12fb3d696e",
   "metadata": {},
   "outputs": [
    {
     "name": "stdout",
     "output_type": "stream",
     "text": [
      "question 4\n",
      "Series\n",
      "Name    Bhagyashri\n",
      "Age             23\n",
      "city        Nashik\n",
      "dtype: object\n"
     ]
    }
   ],
   "source": [
    "q4()"
   ]
  },
  {
   "cell_type": "code",
   "execution_count": 41,
   "id": "3bc8cebd-2a04-43bf-986c-73ca388d94b6",
   "metadata": {},
   "outputs": [],
   "source": [
    "def q5():\n",
    "    print(\"question 5\")\n",
    "    d1= [50,60,40,70]\n",
    "    n1=np.array(d1)\n",
    "    p1= pd.Series(n1)\n",
    "    print(\"Numpy array to pandas series\")\n",
    "    print(\"numpy array {n1}\")\n",
    "    print(\"Series\")\n",
    "    print(p1)"
   ]
  },
  {
   "cell_type": "code",
   "execution_count": 42,
   "id": "3b71ae0c-e25a-4ab7-b22b-1247b583fdda",
   "metadata": {},
   "outputs": [
    {
     "name": "stdout",
     "output_type": "stream",
     "text": [
      "question 5\n",
      "Numpy array to pandas series\n",
      "numpy array {n1}\n",
      "Series\n",
      "0    50\n",
      "1    60\n",
      "2    40\n",
      "3    70\n",
      "dtype: int64\n"
     ]
    }
   ],
   "source": [
    "q5()"
   ]
  },
  {
   "cell_type": "code",
   "execution_count": 43,
   "id": "1e8d78be-7827-491a-b390-422eb56d2ef3",
   "metadata": {},
   "outputs": [],
   "source": [
    "def q6():\n",
    "    print(\"question 6\")\n",
    "    p1 = pd.Series(['100','200','300','400'])\n",
    "    print(p1)\n",
    "    print(\"after changing datatype of series\")\n",
    "    p2 = pd.to_numeric(p1)\n",
    "    print(p2)"
   ]
  },
  {
   "cell_type": "code",
   "execution_count": 44,
   "id": "7bb9b517-0452-4b9e-8155-db6979031e66",
   "metadata": {},
   "outputs": [
    {
     "name": "stdout",
     "output_type": "stream",
     "text": [
      "question 6\n",
      "0    100\n",
      "1    200\n",
      "2    300\n",
      "3    400\n",
      "dtype: object\n",
      "after changing datatype of series\n",
      "0    100\n",
      "1    200\n",
      "2    300\n",
      "3    400\n",
      "dtype: int64\n"
     ]
    }
   ],
   "source": [
    "q6()"
   ]
  },
  {
   "cell_type": "code",
   "execution_count": 45,
   "id": "aab70422-1667-4e90-a18a-9c2b22b7123c",
   "metadata": {},
   "outputs": [],
   "source": [
    "def q7():\n",
    "    print(\"question 7\")\n",
    "    d1 = [50,60,70,80,]\n",
    "    p1=pd.Series(d1)\n",
    "    print(\"pandas series to numpy array\")\n",
    "    print(\"series\")\n",
    "    print(p1)\n",
    "    n1=np.array(p1)\n",
    "    print(f\"numpy array{n1}\")"
   ]
  },
  {
   "cell_type": "code",
   "execution_count": 46,
   "id": "fabd73e9-fb34-455f-83db-ba12b81bca2c",
   "metadata": {},
   "outputs": [
    {
     "name": "stdout",
     "output_type": "stream",
     "text": [
      "question 7\n",
      "pandas series to numpy array\n",
      "series\n",
      "0    50\n",
      "1    60\n",
      "2    70\n",
      "3    80\n",
      "dtype: int64\n",
      "numpy array[50 60 70 80]\n"
     ]
    }
   ],
   "source": [
    "q7()"
   ]
  },
  {
   "cell_type": "code",
   "execution_count": 47,
   "id": "c4133a43-a621-43e7-9614-0bc5f1ed33d9",
   "metadata": {},
   "outputs": [],
   "source": [
    "def q8():\n",
    "    print(\"question 8\")\n",
    "    print(\"Dictionary to pandas Dataframe\")\n",
    "    print(\"Dictionary\")\n",
    "    d1= {\"Name\":\"Bhagyashri\",\"Age\":\"23\",\"city\":\"Nashik\"}\n",
    "    print(d1)\n",
    "    d2= {\"Name\":\"Muskan\",\"Age\":\"24\",\"city\":\"Ayodhya\"}\n",
    "    print(d2)\n",
    "    d3={\"Name\":\"gayatri\",\"Age\":\"24\",\"city\":\"Nashik\"}\n",
    "    print(d3)\n",
    "    p1=pd.DataFrame([d1,d2,d3])\n",
    "    print(\"Dataframe of this dictionary\")\n",
    "    print(p1)"
   ]
  },
  {
   "cell_type": "code",
   "execution_count": 48,
   "id": "524962d1-8fc9-4de7-bc6d-98efd8299334",
   "metadata": {},
   "outputs": [
    {
     "name": "stdout",
     "output_type": "stream",
     "text": [
      "question 8\n",
      "Dictionary to pandas Dataframe\n",
      "Dictionary\n",
      "{'Name': 'Bhagyashri', 'Age': '23', 'city': 'Nashik'}\n",
      "{'Name': 'Muskan', 'Age': '24', 'city': 'Ayodhya'}\n",
      "{'Name': 'gayatri', 'Age': '24', 'city': 'Nashik'}\n",
      "Dataframe of this dictionary\n",
      "         Name Age     city\n",
      "0  Bhagyashri  23   Nashik\n",
      "1      Muskan  24  Ayodhya\n",
      "2     gayatri  24   Nashik\n"
     ]
    }
   ],
   "source": [
    "q8()"
   ]
  },
  {
   "cell_type": "code",
   "execution_count": 49,
   "id": "88f21432-ff8c-4730-bea9-94ec34c00f92",
   "metadata": {},
   "outputs": [],
   "source": [
    "def q9():\n",
    "    print(\"question 9\")\n",
    "    empids =[1,2,3,4,5,6,7,8,9,10]\n",
    "    names =['Andy','sid','dolly','jelly','mikky','shreya','diya','riya','sana','snowy']\n",
    "    s1= pd.Series(empids)\n",
    "    s2= pd.Series(names,index=empids)\n",
    "    print(f\"data type of series 1 {type(s1)}\")\n",
    "    print(f\"data type of series 2 {type(s2)}\")\n",
    "    df1= pd.DataFrame(s2)\n",
    "    print(df1)\n",
    "    df1.to_csv('MyRecords.csv')\n",
    "    df2= pd.read_csv('./MyRecords.csv')\n",
    "    #df2.to_csv('./MyRecords.csv')\n",
    "    print(\"first 5 records\")\n",
    "    p= df2.head()\n",
    "    print(p)\n",
    "    print(\"last 5 records\")\n",
    "    p= df2.tail()\n",
    "    print(p)\n",
    "    print(\"first 2 and last 2 records\")\n",
    "    p= df2.head(2)\n",
    "    print(p)\n",
    "    p=df2.tail(2)\n",
    "    print(p)\n",
    "    print(f\"names of 5th employee\")\n",
    "    print(df1.iloc[4])\n",
    "    print(f\"name of 4rth employee\")\n",
    "    print(df1.iloc[3])"
   ]
  },
  {
   "cell_type": "code",
   "execution_count": 50,
   "id": "de556b86-3062-4aed-b127-9779ccc9cefa",
   "metadata": {},
   "outputs": [
    {
     "name": "stdout",
     "output_type": "stream",
     "text": [
      "question 9\n",
      "data type of series 1 <class 'pandas.core.series.Series'>\n",
      "data type of series 2 <class 'pandas.core.series.Series'>\n",
      "         0\n",
      "1     Andy\n",
      "2      sid\n",
      "3    dolly\n",
      "4    jelly\n",
      "5    mikky\n",
      "6   shreya\n",
      "7     diya\n",
      "8     riya\n",
      "9     sana\n",
      "10   snowy\n",
      "first 5 records\n",
      "   Unnamed: 0      0\n",
      "0           1   Andy\n",
      "1           2    sid\n",
      "2           3  dolly\n",
      "3           4  jelly\n",
      "4           5  mikky\n",
      "last 5 records\n",
      "   Unnamed: 0       0\n",
      "5           6  shreya\n",
      "6           7    diya\n",
      "7           8    riya\n",
      "8           9    sana\n",
      "9          10   snowy\n",
      "first 2 and last 2 records\n",
      "   Unnamed: 0     0\n",
      "0           1  Andy\n",
      "1           2   sid\n",
      "   Unnamed: 0      0\n",
      "8           9   sana\n",
      "9          10  snowy\n",
      "names of 5th employee\n",
      "0    mikky\n",
      "Name: 5, dtype: object\n",
      "name of 4rth employee\n",
      "0    jelly\n",
      "Name: 4, dtype: object\n"
     ]
    }
   ],
   "source": [
    "q9()"
   ]
  },
  {
   "cell_type": "code",
   "execution_count": 51,
   "id": "b8a35e56-6b82-43a2-be2f-4aebdff8ff98",
   "metadata": {},
   "outputs": [
    {
     "name": "stdout",
     "output_type": "stream",
     "text": [
      "        TV  radio  newspaper  sales\n",
      "0    230.1   37.8       69.2   22.1\n",
      "1     44.5   39.3       45.1   10.4\n",
      "2     17.2   45.9       69.3    9.3\n",
      "3    151.5   41.3       58.5   18.5\n",
      "4    180.8   10.8       58.4   12.9\n",
      "..     ...    ...        ...    ...\n",
      "195   38.2    3.7       13.8    7.6\n",
      "196   94.2    4.9        8.1    9.7\n",
      "197  177.0    9.3        6.4   12.8\n",
      "198  283.6   42.0       66.2   25.5\n",
      "199  232.1    8.6        8.7   13.4\n",
      "\n",
      "[200 rows x 4 columns]\n",
      "   Unnamed: 0       0  SALARY\n",
      "0           1    Andy   10000\n",
      "1           2     sid   10000\n",
      "2           3   dolly   10000\n",
      "3           4   jelly   10000\n",
      "4           5   mikky   10000\n",
      "5           6  shreya   10000\n",
      "6           7    diya   10000\n",
      "7           8    riya   10000\n",
      "8           9    sana   10000\n",
      "9          10   snowy   10000\n"
     ]
    }
   ],
   "source": [
    "#Q10read records from Myrecords.csv\n",
    "import pandas as pd\n",
    "df2 = pd.read_csv('./MyRecords.csv')\n",
    "print(df)\n",
    "df2.insert(2, \"SALARY\",[10000,10000,10000,10000,10000,10000,10000,10000,10000,10000],True)\n",
    "print(df2)"
   ]
  },
  {
   "cell_type": "code",
   "execution_count": 52,
   "id": "0d2e963c-9e9f-4e90-aba2-29c2bdb3c646",
   "metadata": {},
   "outputs": [
    {
     "ename": "SyntaxError",
     "evalue": "unmatched ')' (3912647423.py, line 2)",
     "output_type": "error",
     "traceback": [
      "\u001b[0;36m  Cell \u001b[0;32mIn[52], line 2\u001b[0;36m\u001b[0m\n\u001b[0;31m    i) Read the dataset \"Advertising.csv\" in data frame.\u001b[0m\n\u001b[0m     ^\u001b[0m\n\u001b[0;31mSyntaxError\u001b[0m\u001b[0;31m:\u001b[0m unmatched ')'\n"
     ]
    }
   ],
   "source": [
    "#Q11.Refer the dataset \"Advertising.csv\" and perform following tasks.\n",
    "i) Read the dataset \"Advertising.csv\" in data frame.\n",
    "\n",
    "ii) Print first five records of dataset.\n",
    "\n",
    "iii) print last five records from dataset.\n",
    "\n",
    "iv) display the columns inside the dataset.\n",
    "\n",
    "v) display last three records from dataset.\n",
    "\n",
    "vi) display the information about the dataset and analyse the data.\n",
    "\n",
    "vii) display types of each columns.\n",
    " \n",
    "viii) check for null values in the dataset and display the sum of null values inside the column.\n",
    "\n",
    "ix) drop a column 'radio' from a dataset and display first ten records.\n",
    "\n",
    "x) increase the sales by 10% and add a new column \"updated_sales\" in dataframe.\n",
    "\n",
    "xi) display shape of data.\n",
    "\n",
    "xii) Find out maximum,minimum,mean,median,standard deviation value of each column.\n",
    " \n",
    "xiii) describe the dataset."
   ]
  },
  {
   "cell_type": "code",
   "execution_count": null,
   "id": "6cefe9a3-39ac-460d-9172-718444050509",
   "metadata": {},
   "outputs": [],
   "source": [
    "import pandas as pd\n",
    "df= pd.read_csv('./Advertising.csv')\n"
   ]
  },
  {
   "cell_type": "code",
   "execution_count": null,
   "id": "192c9060-49e7-4e35-86d9-20e223356ab7",
   "metadata": {},
   "outputs": [],
   "source": [
    "df.head(5)"
   ]
  },
  {
   "cell_type": "code",
   "execution_count": null,
   "id": "32e9eff9-c5d5-4bc7-92eb-fb8913e28a91",
   "metadata": {},
   "outputs": [],
   "source": [
    "df.tail()"
   ]
  },
  {
   "cell_type": "code",
   "execution_count": null,
   "id": "987893be-5310-41b8-b474-89673aac1f3b",
   "metadata": {},
   "outputs": [],
   "source": [
    "df.columns"
   ]
  },
  {
   "cell_type": "code",
   "execution_count": null,
   "id": "3ed813a2-e747-4fb8-b944-23b67e54984a",
   "metadata": {},
   "outputs": [],
   "source": [
    "df.tail(3)"
   ]
  },
  {
   "cell_type": "code",
   "execution_count": null,
   "id": "e19db81c-c72c-49c6-b50a-5b843cde541f",
   "metadata": {},
   "outputs": [],
   "source": [
    "df.info()"
   ]
  },
  {
   "cell_type": "code",
   "execution_count": 101,
   "id": "0cfabe3f-ce2c-4322-8847-1c9b448daae7",
   "metadata": {},
   "outputs": [
    {
     "ename": "KeyError",
     "evalue": "'sales'",
     "output_type": "error",
     "traceback": [
      "\u001b[0;31m---------------------------------------------------------------------------\u001b[0m",
      "\u001b[0;31mKeyError\u001b[0m                                  Traceback (most recent call last)",
      "File \u001b[0;32m~/.local/lib/python3.10/site-packages/pandas/core/indexes/base.py:3805\u001b[0m, in \u001b[0;36mIndex.get_loc\u001b[0;34m(self, key)\u001b[0m\n\u001b[1;32m   3804\u001b[0m \u001b[38;5;28;01mtry\u001b[39;00m:\n\u001b[0;32m-> 3805\u001b[0m     \u001b[38;5;28;01mreturn\u001b[39;00m \u001b[38;5;28;43mself\u001b[39;49m\u001b[38;5;241;43m.\u001b[39;49m\u001b[43m_engine\u001b[49m\u001b[38;5;241;43m.\u001b[39;49m\u001b[43mget_loc\u001b[49m\u001b[43m(\u001b[49m\u001b[43mcasted_key\u001b[49m\u001b[43m)\u001b[49m\n\u001b[1;32m   3806\u001b[0m \u001b[38;5;28;01mexcept\u001b[39;00m \u001b[38;5;167;01mKeyError\u001b[39;00m \u001b[38;5;28;01mas\u001b[39;00m err:\n",
      "File \u001b[0;32mindex.pyx:167\u001b[0m, in \u001b[0;36mpandas._libs.index.IndexEngine.get_loc\u001b[0;34m()\u001b[0m\n",
      "File \u001b[0;32mindex.pyx:196\u001b[0m, in \u001b[0;36mpandas._libs.index.IndexEngine.get_loc\u001b[0;34m()\u001b[0m\n",
      "File \u001b[0;32mpandas/_libs/hashtable_class_helper.pxi:7081\u001b[0m, in \u001b[0;36mpandas._libs.hashtable.PyObjectHashTable.get_item\u001b[0;34m()\u001b[0m\n",
      "File \u001b[0;32mpandas/_libs/hashtable_class_helper.pxi:7089\u001b[0m, in \u001b[0;36mpandas._libs.hashtable.PyObjectHashTable.get_item\u001b[0;34m()\u001b[0m\n",
      "\u001b[0;31mKeyError\u001b[0m: 'sales'",
      "\nThe above exception was the direct cause of the following exception:\n",
      "\u001b[0;31mKeyError\u001b[0m                                  Traceback (most recent call last)",
      "Cell \u001b[0;32mIn[101], line 2\u001b[0m\n\u001b[1;32m      1\u001b[0m \u001b[38;5;28;01mimport\u001b[39;00m \u001b[38;5;21;01mmatplotlib\u001b[39;00m\u001b[38;5;21;01m.\u001b[39;00m\u001b[38;5;21;01mpyplot\u001b[39;00m \u001b[38;5;28;01mas\u001b[39;00m \u001b[38;5;21;01mplt\u001b[39;00m\n\u001b[0;32m----> 2\u001b[0m plt\u001b[38;5;241m.\u001b[39mscatter(\u001b[43mdf\u001b[49m\u001b[43m[\u001b[49m\u001b[38;5;124;43m'\u001b[39;49m\u001b[38;5;124;43msales\u001b[39;49m\u001b[38;5;124;43m'\u001b[39;49m\u001b[43m]\u001b[49m,df[\u001b[38;5;124m'\u001b[39m\u001b[38;5;124mTV\u001b[39m\u001b[38;5;124m'\u001b[39m])\n\u001b[1;32m      3\u001b[0m plt\u001b[38;5;241m.\u001b[39mxlabel(\u001b[38;5;124m\"\u001b[39m\u001b[38;5;124mTV\u001b[39m\u001b[38;5;124m\"\u001b[39m)\n\u001b[1;32m      4\u001b[0m plt\u001b[38;5;241m.\u001b[39mylabel(\u001b[38;5;124m\"\u001b[39m\u001b[38;5;124msales\u001b[39m\u001b[38;5;124m\"\u001b[39m)\n",
      "File \u001b[0;32m~/.local/lib/python3.10/site-packages/pandas/core/frame.py:4102\u001b[0m, in \u001b[0;36mDataFrame.__getitem__\u001b[0;34m(self, key)\u001b[0m\n\u001b[1;32m   4100\u001b[0m \u001b[38;5;28;01mif\u001b[39;00m \u001b[38;5;28mself\u001b[39m\u001b[38;5;241m.\u001b[39mcolumns\u001b[38;5;241m.\u001b[39mnlevels \u001b[38;5;241m>\u001b[39m \u001b[38;5;241m1\u001b[39m:\n\u001b[1;32m   4101\u001b[0m     \u001b[38;5;28;01mreturn\u001b[39;00m \u001b[38;5;28mself\u001b[39m\u001b[38;5;241m.\u001b[39m_getitem_multilevel(key)\n\u001b[0;32m-> 4102\u001b[0m indexer \u001b[38;5;241m=\u001b[39m \u001b[38;5;28;43mself\u001b[39;49m\u001b[38;5;241;43m.\u001b[39;49m\u001b[43mcolumns\u001b[49m\u001b[38;5;241;43m.\u001b[39;49m\u001b[43mget_loc\u001b[49m\u001b[43m(\u001b[49m\u001b[43mkey\u001b[49m\u001b[43m)\u001b[49m\n\u001b[1;32m   4103\u001b[0m \u001b[38;5;28;01mif\u001b[39;00m is_integer(indexer):\n\u001b[1;32m   4104\u001b[0m     indexer \u001b[38;5;241m=\u001b[39m [indexer]\n",
      "File \u001b[0;32m~/.local/lib/python3.10/site-packages/pandas/core/indexes/base.py:3812\u001b[0m, in \u001b[0;36mIndex.get_loc\u001b[0;34m(self, key)\u001b[0m\n\u001b[1;32m   3807\u001b[0m     \u001b[38;5;28;01mif\u001b[39;00m \u001b[38;5;28misinstance\u001b[39m(casted_key, \u001b[38;5;28mslice\u001b[39m) \u001b[38;5;129;01mor\u001b[39;00m (\n\u001b[1;32m   3808\u001b[0m         \u001b[38;5;28misinstance\u001b[39m(casted_key, abc\u001b[38;5;241m.\u001b[39mIterable)\n\u001b[1;32m   3809\u001b[0m         \u001b[38;5;129;01mand\u001b[39;00m \u001b[38;5;28many\u001b[39m(\u001b[38;5;28misinstance\u001b[39m(x, \u001b[38;5;28mslice\u001b[39m) \u001b[38;5;28;01mfor\u001b[39;00m x \u001b[38;5;129;01min\u001b[39;00m casted_key)\n\u001b[1;32m   3810\u001b[0m     ):\n\u001b[1;32m   3811\u001b[0m         \u001b[38;5;28;01mraise\u001b[39;00m InvalidIndexError(key)\n\u001b[0;32m-> 3812\u001b[0m     \u001b[38;5;28;01mraise\u001b[39;00m \u001b[38;5;167;01mKeyError\u001b[39;00m(key) \u001b[38;5;28;01mfrom\u001b[39;00m \u001b[38;5;21;01merr\u001b[39;00m\n\u001b[1;32m   3813\u001b[0m \u001b[38;5;28;01mexcept\u001b[39;00m \u001b[38;5;167;01mTypeError\u001b[39;00m:\n\u001b[1;32m   3814\u001b[0m     \u001b[38;5;66;03m# If we have a listlike key, _check_indexing_error will raise\u001b[39;00m\n\u001b[1;32m   3815\u001b[0m     \u001b[38;5;66;03m#  InvalidIndexError. Otherwise we fall through and re-raise\u001b[39;00m\n\u001b[1;32m   3816\u001b[0m     \u001b[38;5;66;03m#  the TypeError.\u001b[39;00m\n\u001b[1;32m   3817\u001b[0m     \u001b[38;5;28mself\u001b[39m\u001b[38;5;241m.\u001b[39m_check_indexing_error(key)\n",
      "\u001b[0;31mKeyError\u001b[0m: 'sales'"
     ]
    }
   ],
   "source": [
    "import matplotlib.pyplot as plt\n",
    "plt.scatter(df['sales'],df['TV'])\n",
    "plt.xlabel(\"TV\")\n",
    "plt.ylabel(\"sales\")\n",
    "plt.title(\"tv vs sales\")"
   ]
  },
  {
   "cell_type": "code",
   "execution_count": 54,
   "id": "0835a03e-963a-47ce-b8f6-14de4e63f950",
   "metadata": {},
   "outputs": [
    {
     "name": "stdout",
     "output_type": "stream",
     "text": [
      "TV           float64\n",
      "radio        float64\n",
      "newspaper    float64\n",
      "sales        float64\n",
      "dtype: object\n"
     ]
    }
   ],
   "source": [
    "datatype = df.dtypes\n",
    "print(datatype)"
   ]
  },
  {
   "cell_type": "code",
   "execution_count": 55,
   "id": "df90b68b-38bc-4641-b99e-ed7dda6e307e",
   "metadata": {},
   "outputs": [
    {
     "data": {
      "text/plain": [
       "TV           0\n",
       "radio        0\n",
       "newspaper    0\n",
       "sales        0\n",
       "dtype: int64"
      ]
     },
     "execution_count": 55,
     "metadata": {},
     "output_type": "execute_result"
    }
   ],
   "source": [
    "df.isna().sum()"
   ]
  },
  {
   "cell_type": "code",
   "execution_count": 65,
   "id": "66989f04-cc7e-4ef9-9fad-33698b421e4e",
   "metadata": {},
   "outputs": [],
   "source": [
    "df['updated_sales']=df['sales']*0.1"
   ]
  },
  {
   "cell_type": "code",
   "execution_count": 63,
   "id": "649dce78-9721-4b4f-a750-e2dd2d48ce81",
   "metadata": {},
   "outputs": [
    {
     "data": {
      "text/html": [
       "<div>\n",
       "<style scoped>\n",
       "    .dataframe tbody tr th:only-of-type {\n",
       "        vertical-align: middle;\n",
       "    }\n",
       "\n",
       "    .dataframe tbody tr th {\n",
       "        vertical-align: top;\n",
       "    }\n",
       "\n",
       "    .dataframe thead th {\n",
       "        text-align: right;\n",
       "    }\n",
       "</style>\n",
       "<table border=\"1\" class=\"dataframe\">\n",
       "  <thead>\n",
       "    <tr style=\"text-align: right;\">\n",
       "      <th></th>\n",
       "      <th>TV</th>\n",
       "      <th>radio</th>\n",
       "      <th>newspaper</th>\n",
       "      <th>sales</th>\n",
       "      <th>bonus</th>\n",
       "      <th>updated_sales</th>\n",
       "    </tr>\n",
       "  </thead>\n",
       "  <tbody>\n",
       "    <tr>\n",
       "      <th>0</th>\n",
       "      <td>230.1</td>\n",
       "      <td>37.8</td>\n",
       "      <td>69.2</td>\n",
       "      <td>22.1</td>\n",
       "      <td>2.21</td>\n",
       "      <td>2.21</td>\n",
       "    </tr>\n",
       "    <tr>\n",
       "      <th>1</th>\n",
       "      <td>44.5</td>\n",
       "      <td>39.3</td>\n",
       "      <td>45.1</td>\n",
       "      <td>10.4</td>\n",
       "      <td>1.04</td>\n",
       "      <td>1.04</td>\n",
       "    </tr>\n",
       "    <tr>\n",
       "      <th>2</th>\n",
       "      <td>17.2</td>\n",
       "      <td>45.9</td>\n",
       "      <td>69.3</td>\n",
       "      <td>9.3</td>\n",
       "      <td>0.93</td>\n",
       "      <td>0.93</td>\n",
       "    </tr>\n",
       "    <tr>\n",
       "      <th>3</th>\n",
       "      <td>151.5</td>\n",
       "      <td>41.3</td>\n",
       "      <td>58.5</td>\n",
       "      <td>18.5</td>\n",
       "      <td>1.85</td>\n",
       "      <td>1.85</td>\n",
       "    </tr>\n",
       "    <tr>\n",
       "      <th>4</th>\n",
       "      <td>180.8</td>\n",
       "      <td>10.8</td>\n",
       "      <td>58.4</td>\n",
       "      <td>12.9</td>\n",
       "      <td>1.29</td>\n",
       "      <td>1.29</td>\n",
       "    </tr>\n",
       "  </tbody>\n",
       "</table>\n",
       "</div>"
      ],
      "text/plain": [
       "      TV  radio  newspaper  sales  bonus  updated_sales\n",
       "0  230.1   37.8       69.2   22.1   2.21           2.21\n",
       "1   44.5   39.3       45.1   10.4   1.04           1.04\n",
       "2   17.2   45.9       69.3    9.3   0.93           0.93\n",
       "3  151.5   41.3       58.5   18.5   1.85           1.85\n",
       "4  180.8   10.8       58.4   12.9   1.29           1.29"
      ]
     },
     "execution_count": 63,
     "metadata": {},
     "output_type": "execute_result"
    }
   ],
   "source": [
    "df.head()"
   ]
  },
  {
   "cell_type": "code",
   "execution_count": 66,
   "id": "0256f6b6-09a4-4cb2-9f05-baa6436da923",
   "metadata": {},
   "outputs": [
    {
     "data": {
      "text/html": [
       "<div>\n",
       "<style scoped>\n",
       "    .dataframe tbody tr th:only-of-type {\n",
       "        vertical-align: middle;\n",
       "    }\n",
       "\n",
       "    .dataframe tbody tr th {\n",
       "        vertical-align: top;\n",
       "    }\n",
       "\n",
       "    .dataframe thead th {\n",
       "        text-align: right;\n",
       "    }\n",
       "</style>\n",
       "<table border=\"1\" class=\"dataframe\">\n",
       "  <thead>\n",
       "    <tr style=\"text-align: right;\">\n",
       "      <th></th>\n",
       "      <th>TV</th>\n",
       "      <th>radio</th>\n",
       "      <th>newspaper</th>\n",
       "      <th>sales</th>\n",
       "      <th>updated_sales</th>\n",
       "    </tr>\n",
       "  </thead>\n",
       "  <tbody>\n",
       "    <tr>\n",
       "      <th>0</th>\n",
       "      <td>230.1</td>\n",
       "      <td>37.8</td>\n",
       "      <td>69.2</td>\n",
       "      <td>22.1</td>\n",
       "      <td>2.21</td>\n",
       "    </tr>\n",
       "    <tr>\n",
       "      <th>1</th>\n",
       "      <td>44.5</td>\n",
       "      <td>39.3</td>\n",
       "      <td>45.1</td>\n",
       "      <td>10.4</td>\n",
       "      <td>1.04</td>\n",
       "    </tr>\n",
       "    <tr>\n",
       "      <th>2</th>\n",
       "      <td>17.2</td>\n",
       "      <td>45.9</td>\n",
       "      <td>69.3</td>\n",
       "      <td>9.3</td>\n",
       "      <td>0.93</td>\n",
       "    </tr>\n",
       "    <tr>\n",
       "      <th>3</th>\n",
       "      <td>151.5</td>\n",
       "      <td>41.3</td>\n",
       "      <td>58.5</td>\n",
       "      <td>18.5</td>\n",
       "      <td>1.85</td>\n",
       "    </tr>\n",
       "    <tr>\n",
       "      <th>4</th>\n",
       "      <td>180.8</td>\n",
       "      <td>10.8</td>\n",
       "      <td>58.4</td>\n",
       "      <td>12.9</td>\n",
       "      <td>1.29</td>\n",
       "    </tr>\n",
       "    <tr>\n",
       "      <th>...</th>\n",
       "      <td>...</td>\n",
       "      <td>...</td>\n",
       "      <td>...</td>\n",
       "      <td>...</td>\n",
       "      <td>...</td>\n",
       "    </tr>\n",
       "    <tr>\n",
       "      <th>195</th>\n",
       "      <td>38.2</td>\n",
       "      <td>3.7</td>\n",
       "      <td>13.8</td>\n",
       "      <td>7.6</td>\n",
       "      <td>0.76</td>\n",
       "    </tr>\n",
       "    <tr>\n",
       "      <th>196</th>\n",
       "      <td>94.2</td>\n",
       "      <td>4.9</td>\n",
       "      <td>8.1</td>\n",
       "      <td>9.7</td>\n",
       "      <td>0.97</td>\n",
       "    </tr>\n",
       "    <tr>\n",
       "      <th>197</th>\n",
       "      <td>177.0</td>\n",
       "      <td>9.3</td>\n",
       "      <td>6.4</td>\n",
       "      <td>12.8</td>\n",
       "      <td>1.28</td>\n",
       "    </tr>\n",
       "    <tr>\n",
       "      <th>198</th>\n",
       "      <td>283.6</td>\n",
       "      <td>42.0</td>\n",
       "      <td>66.2</td>\n",
       "      <td>25.5</td>\n",
       "      <td>2.55</td>\n",
       "    </tr>\n",
       "    <tr>\n",
       "      <th>199</th>\n",
       "      <td>232.1</td>\n",
       "      <td>8.6</td>\n",
       "      <td>8.7</td>\n",
       "      <td>13.4</td>\n",
       "      <td>1.34</td>\n",
       "    </tr>\n",
       "  </tbody>\n",
       "</table>\n",
       "<p>200 rows × 5 columns</p>\n",
       "</div>"
      ],
      "text/plain": [
       "        TV  radio  newspaper  sales  updated_sales\n",
       "0    230.1   37.8       69.2   22.1           2.21\n",
       "1     44.5   39.3       45.1   10.4           1.04\n",
       "2     17.2   45.9       69.3    9.3           0.93\n",
       "3    151.5   41.3       58.5   18.5           1.85\n",
       "4    180.8   10.8       58.4   12.9           1.29\n",
       "..     ...    ...        ...    ...            ...\n",
       "195   38.2    3.7       13.8    7.6           0.76\n",
       "196   94.2    4.9        8.1    9.7           0.97\n",
       "197  177.0    9.3        6.4   12.8           1.28\n",
       "198  283.6   42.0       66.2   25.5           2.55\n",
       "199  232.1    8.6        8.7   13.4           1.34\n",
       "\n",
       "[200 rows x 5 columns]"
      ]
     },
     "execution_count": 66,
     "metadata": {},
     "output_type": "execute_result"
    }
   ],
   "source": [
    "df.drop(['bonus'],axis=1)"
   ]
  },
  {
   "cell_type": "code",
   "execution_count": 69,
   "id": "e7ec824e-98d2-433b-8b37-70cefe9a88f5",
   "metadata": {},
   "outputs": [
    {
     "data": {
      "text/plain": [
       "(200, 6)"
      ]
     },
     "execution_count": 69,
     "metadata": {},
     "output_type": "execute_result"
    }
   ],
   "source": [
    "df.shape"
   ]
  },
  {
   "cell_type": "code",
   "execution_count": 83,
   "id": "5657187f-4925-4775-b400-dbdd5757769b",
   "metadata": {},
   "outputs": [
    {
     "data": {
      "text/plain": [
       "min      0.700000\n",
       "max    296.400000\n",
       "std     85.854236\n",
       "Name: TV, dtype: float64"
      ]
     },
     "execution_count": 83,
     "metadata": {},
     "output_type": "execute_result"
    }
   ],
   "source": [
    "df.describe().loc[['min','max','std'],'TV']"
   ]
  },
  {
   "cell_type": "code",
   "execution_count": 82,
   "id": "8ebcf772-2e35-4e4c-9f94-6a414b0515a7",
   "metadata": {},
   "outputs": [
    {
     "data": {
      "text/plain": [
       "min     0.000000\n",
       "max    49.600000\n",
       "std    14.846809\n",
       "Name: radio, dtype: float64"
      ]
     },
     "execution_count": 82,
     "metadata": {},
     "output_type": "execute_result"
    }
   ],
   "source": [
    "df.describe().loc[['min','max','std'],'radio']"
   ]
  },
  {
   "cell_type": "code",
   "execution_count": 84,
   "id": "8965569e-e197-4190-9543-f6c526866281",
   "metadata": {},
   "outputs": [
    {
     "data": {
      "text/plain": [
       "min      0.300000\n",
       "max    114.000000\n",
       "std     21.778621\n",
       "Name: newspaper, dtype: float64"
      ]
     },
     "execution_count": 84,
     "metadata": {},
     "output_type": "execute_result"
    }
   ],
   "source": [
    "df.describe().loc[['min','max','std'],'newspaper']"
   ]
  },
  {
   "cell_type": "code",
   "execution_count": 85,
   "id": "dd85cc4e-58c4-4a96-ac6a-7065ce561ba0",
   "metadata": {},
   "outputs": [
    {
     "data": {
      "text/plain": [
       "min     1.600000\n",
       "max    27.000000\n",
       "std     5.217457\n",
       "Name: sales, dtype: float64"
      ]
     },
     "execution_count": 85,
     "metadata": {},
     "output_type": "execute_result"
    }
   ],
   "source": [
    "df.describe().loc[['min','max','std'],'sales']"
   ]
  },
  {
   "cell_type": "code",
   "execution_count": 86,
   "id": "4e7629a9-ad45-4d4d-87a2-c5f016231c8b",
   "metadata": {},
   "outputs": [
    {
     "data": {
      "text/plain": [
       "min    0.160000\n",
       "max    2.700000\n",
       "std    0.521746\n",
       "Name: updated_sales, dtype: float64"
      ]
     },
     "execution_count": 86,
     "metadata": {},
     "output_type": "execute_result"
    }
   ],
   "source": [
    "df.describe().loc[['min','max','std'],'updated_sales']"
   ]
  },
  {
   "cell_type": "code",
   "execution_count": 87,
   "id": "e0561c56-6ef5-4fa1-be78-1f7440670a96",
   "metadata": {},
   "outputs": [
    {
     "data": {
      "text/html": [
       "<div>\n",
       "<style scoped>\n",
       "    .dataframe tbody tr th:only-of-type {\n",
       "        vertical-align: middle;\n",
       "    }\n",
       "\n",
       "    .dataframe tbody tr th {\n",
       "        vertical-align: top;\n",
       "    }\n",
       "\n",
       "    .dataframe thead th {\n",
       "        text-align: right;\n",
       "    }\n",
       "</style>\n",
       "<table border=\"1\" class=\"dataframe\">\n",
       "  <thead>\n",
       "    <tr style=\"text-align: right;\">\n",
       "      <th></th>\n",
       "      <th>TV</th>\n",
       "      <th>radio</th>\n",
       "      <th>newspaper</th>\n",
       "      <th>sales</th>\n",
       "      <th>bonus</th>\n",
       "      <th>updated_sales</th>\n",
       "    </tr>\n",
       "  </thead>\n",
       "  <tbody>\n",
       "    <tr>\n",
       "      <th>count</th>\n",
       "      <td>200.000000</td>\n",
       "      <td>200.000000</td>\n",
       "      <td>200.000000</td>\n",
       "      <td>200.000000</td>\n",
       "      <td>200.000000</td>\n",
       "      <td>200.000000</td>\n",
       "    </tr>\n",
       "    <tr>\n",
       "      <th>mean</th>\n",
       "      <td>147.042500</td>\n",
       "      <td>23.264000</td>\n",
       "      <td>30.554000</td>\n",
       "      <td>14.022500</td>\n",
       "      <td>1.402250</td>\n",
       "      <td>1.402250</td>\n",
       "    </tr>\n",
       "    <tr>\n",
       "      <th>std</th>\n",
       "      <td>85.854236</td>\n",
       "      <td>14.846809</td>\n",
       "      <td>21.778621</td>\n",
       "      <td>5.217457</td>\n",
       "      <td>0.521746</td>\n",
       "      <td>0.521746</td>\n",
       "    </tr>\n",
       "    <tr>\n",
       "      <th>min</th>\n",
       "      <td>0.700000</td>\n",
       "      <td>0.000000</td>\n",
       "      <td>0.300000</td>\n",
       "      <td>1.600000</td>\n",
       "      <td>0.160000</td>\n",
       "      <td>0.160000</td>\n",
       "    </tr>\n",
       "    <tr>\n",
       "      <th>25%</th>\n",
       "      <td>74.375000</td>\n",
       "      <td>9.975000</td>\n",
       "      <td>12.750000</td>\n",
       "      <td>10.375000</td>\n",
       "      <td>1.037500</td>\n",
       "      <td>1.037500</td>\n",
       "    </tr>\n",
       "    <tr>\n",
       "      <th>50%</th>\n",
       "      <td>149.750000</td>\n",
       "      <td>22.900000</td>\n",
       "      <td>25.750000</td>\n",
       "      <td>12.900000</td>\n",
       "      <td>1.290000</td>\n",
       "      <td>1.290000</td>\n",
       "    </tr>\n",
       "    <tr>\n",
       "      <th>75%</th>\n",
       "      <td>218.825000</td>\n",
       "      <td>36.525000</td>\n",
       "      <td>45.100000</td>\n",
       "      <td>17.400000</td>\n",
       "      <td>1.740000</td>\n",
       "      <td>1.740000</td>\n",
       "    </tr>\n",
       "    <tr>\n",
       "      <th>max</th>\n",
       "      <td>296.400000</td>\n",
       "      <td>49.600000</td>\n",
       "      <td>114.000000</td>\n",
       "      <td>27.000000</td>\n",
       "      <td>2.700000</td>\n",
       "      <td>2.700000</td>\n",
       "    </tr>\n",
       "  </tbody>\n",
       "</table>\n",
       "</div>"
      ],
      "text/plain": [
       "               TV       radio   newspaper       sales       bonus  \\\n",
       "count  200.000000  200.000000  200.000000  200.000000  200.000000   \n",
       "mean   147.042500   23.264000   30.554000   14.022500    1.402250   \n",
       "std     85.854236   14.846809   21.778621    5.217457    0.521746   \n",
       "min      0.700000    0.000000    0.300000    1.600000    0.160000   \n",
       "25%     74.375000    9.975000   12.750000   10.375000    1.037500   \n",
       "50%    149.750000   22.900000   25.750000   12.900000    1.290000   \n",
       "75%    218.825000   36.525000   45.100000   17.400000    1.740000   \n",
       "max    296.400000   49.600000  114.000000   27.000000    2.700000   \n",
       "\n",
       "       updated_sales  \n",
       "count     200.000000  \n",
       "mean        1.402250  \n",
       "std         0.521746  \n",
       "min         0.160000  \n",
       "25%         1.037500  \n",
       "50%         1.290000  \n",
       "75%         1.740000  \n",
       "max         2.700000  "
      ]
     },
     "execution_count": 87,
     "metadata": {},
     "output_type": "execute_result"
    }
   ],
   "source": [
    "df.describe()"
   ]
  },
  {
   "cell_type": "code",
   "execution_count": null,
   "id": "dc5a9cf5-3473-47db-8310-88ca2c451c8a",
   "metadata": {},
   "outputs": [],
   "source": [
    "#Q1212. Refer the dataset \"Salaries.csv\" and perform following tasks.\n",
    "#i) Read the dataset in dataframe.\n",
    "#ii) display first five records.\n",
    "#iii) display first ten records.\n",
    "#iv) display last five records.\n",
    "#v) display last ten records.\n",
    "#vi) display the columns inside the dataset.\n",
    "#vii) display shape of data.\n",
    "#viii) describe the dataset.\n",
    "#ix) display the information about the dataset and analyse the data.\n",
    "#x) display types of each columns.\n",
    "#xi) Find out maximum,minimum,mean,median,standard deviation value of each column."
   ]
  },
  {
   "cell_type": "code",
   "execution_count": 89,
   "id": "e0385feb-8665-4873-b060-a159dfe7cc2d",
   "metadata": {},
   "outputs": [],
   "source": [
    "import pandas as pd\n",
    "df = pd.read_csv('./Salary_Data.csv')\n"
   ]
  },
  {
   "cell_type": "code",
   "execution_count": 90,
   "id": "312bc2fb-fb92-4f9d-aa82-cc6be321b5a7",
   "metadata": {},
   "outputs": [
    {
     "data": {
      "text/html": [
       "<div>\n",
       "<style scoped>\n",
       "    .dataframe tbody tr th:only-of-type {\n",
       "        vertical-align: middle;\n",
       "    }\n",
       "\n",
       "    .dataframe tbody tr th {\n",
       "        vertical-align: top;\n",
       "    }\n",
       "\n",
       "    .dataframe thead th {\n",
       "        text-align: right;\n",
       "    }\n",
       "</style>\n",
       "<table border=\"1\" class=\"dataframe\">\n",
       "  <thead>\n",
       "    <tr style=\"text-align: right;\">\n",
       "      <th></th>\n",
       "      <th>YearsExperience</th>\n",
       "      <th>Salary</th>\n",
       "    </tr>\n",
       "  </thead>\n",
       "  <tbody>\n",
       "    <tr>\n",
       "      <th>0</th>\n",
       "      <td>1.1</td>\n",
       "      <td>39343</td>\n",
       "    </tr>\n",
       "    <tr>\n",
       "      <th>1</th>\n",
       "      <td>1.3</td>\n",
       "      <td>46205</td>\n",
       "    </tr>\n",
       "    <tr>\n",
       "      <th>2</th>\n",
       "      <td>1.5</td>\n",
       "      <td>37731</td>\n",
       "    </tr>\n",
       "    <tr>\n",
       "      <th>3</th>\n",
       "      <td>2.0</td>\n",
       "      <td>43525</td>\n",
       "    </tr>\n",
       "    <tr>\n",
       "      <th>4</th>\n",
       "      <td>2.2</td>\n",
       "      <td>39891</td>\n",
       "    </tr>\n",
       "  </tbody>\n",
       "</table>\n",
       "</div>"
      ],
      "text/plain": [
       "   YearsExperience  Salary\n",
       "0              1.1   39343\n",
       "1              1.3   46205\n",
       "2              1.5   37731\n",
       "3              2.0   43525\n",
       "4              2.2   39891"
      ]
     },
     "execution_count": 90,
     "metadata": {},
     "output_type": "execute_result"
    }
   ],
   "source": [
    "df.head()"
   ]
  },
  {
   "cell_type": "code",
   "execution_count": 91,
   "id": "5d294313-094b-460b-bf60-6220b29720e5",
   "metadata": {},
   "outputs": [
    {
     "data": {
      "text/html": [
       "<div>\n",
       "<style scoped>\n",
       "    .dataframe tbody tr th:only-of-type {\n",
       "        vertical-align: middle;\n",
       "    }\n",
       "\n",
       "    .dataframe tbody tr th {\n",
       "        vertical-align: top;\n",
       "    }\n",
       "\n",
       "    .dataframe thead th {\n",
       "        text-align: right;\n",
       "    }\n",
       "</style>\n",
       "<table border=\"1\" class=\"dataframe\">\n",
       "  <thead>\n",
       "    <tr style=\"text-align: right;\">\n",
       "      <th></th>\n",
       "      <th>YearsExperience</th>\n",
       "      <th>Salary</th>\n",
       "    </tr>\n",
       "  </thead>\n",
       "  <tbody>\n",
       "    <tr>\n",
       "      <th>0</th>\n",
       "      <td>1.1</td>\n",
       "      <td>39343</td>\n",
       "    </tr>\n",
       "    <tr>\n",
       "      <th>1</th>\n",
       "      <td>1.3</td>\n",
       "      <td>46205</td>\n",
       "    </tr>\n",
       "    <tr>\n",
       "      <th>2</th>\n",
       "      <td>1.5</td>\n",
       "      <td>37731</td>\n",
       "    </tr>\n",
       "    <tr>\n",
       "      <th>3</th>\n",
       "      <td>2.0</td>\n",
       "      <td>43525</td>\n",
       "    </tr>\n",
       "    <tr>\n",
       "      <th>4</th>\n",
       "      <td>2.2</td>\n",
       "      <td>39891</td>\n",
       "    </tr>\n",
       "    <tr>\n",
       "      <th>5</th>\n",
       "      <td>2.9</td>\n",
       "      <td>56642</td>\n",
       "    </tr>\n",
       "    <tr>\n",
       "      <th>6</th>\n",
       "      <td>3.0</td>\n",
       "      <td>60150</td>\n",
       "    </tr>\n",
       "    <tr>\n",
       "      <th>7</th>\n",
       "      <td>3.2</td>\n",
       "      <td>54445</td>\n",
       "    </tr>\n",
       "    <tr>\n",
       "      <th>8</th>\n",
       "      <td>3.2</td>\n",
       "      <td>64445</td>\n",
       "    </tr>\n",
       "    <tr>\n",
       "      <th>9</th>\n",
       "      <td>3.7</td>\n",
       "      <td>57189</td>\n",
       "    </tr>\n",
       "    <tr>\n",
       "      <th>10</th>\n",
       "      <td>3.9</td>\n",
       "      <td>63218</td>\n",
       "    </tr>\n",
       "    <tr>\n",
       "      <th>11</th>\n",
       "      <td>4.0</td>\n",
       "      <td>55794</td>\n",
       "    </tr>\n",
       "  </tbody>\n",
       "</table>\n",
       "</div>"
      ],
      "text/plain": [
       "    YearsExperience  Salary\n",
       "0               1.1   39343\n",
       "1               1.3   46205\n",
       "2               1.5   37731\n",
       "3               2.0   43525\n",
       "4               2.2   39891\n",
       "5               2.9   56642\n",
       "6               3.0   60150\n",
       "7               3.2   54445\n",
       "8               3.2   64445\n",
       "9               3.7   57189\n",
       "10              3.9   63218\n",
       "11              4.0   55794"
      ]
     },
     "execution_count": 91,
     "metadata": {},
     "output_type": "execute_result"
    }
   ],
   "source": [
    "df.head(12)"
   ]
  },
  {
   "cell_type": "code",
   "execution_count": 93,
   "id": "f18f1314-632b-43b3-aa07-56140f21a74a",
   "metadata": {},
   "outputs": [
    {
     "data": {
      "text/html": [
       "<div>\n",
       "<style scoped>\n",
       "    .dataframe tbody tr th:only-of-type {\n",
       "        vertical-align: middle;\n",
       "    }\n",
       "\n",
       "    .dataframe tbody tr th {\n",
       "        vertical-align: top;\n",
       "    }\n",
       "\n",
       "    .dataframe thead th {\n",
       "        text-align: right;\n",
       "    }\n",
       "</style>\n",
       "<table border=\"1\" class=\"dataframe\">\n",
       "  <thead>\n",
       "    <tr style=\"text-align: right;\">\n",
       "      <th></th>\n",
       "      <th>YearsExperience</th>\n",
       "      <th>Salary</th>\n",
       "    </tr>\n",
       "  </thead>\n",
       "  <tbody>\n",
       "    <tr>\n",
       "      <th>28</th>\n",
       "      <td>10.3</td>\n",
       "      <td>122391</td>\n",
       "    </tr>\n",
       "    <tr>\n",
       "      <th>29</th>\n",
       "      <td>10.5</td>\n",
       "      <td>121872</td>\n",
       "    </tr>\n",
       "    <tr>\n",
       "      <th>30</th>\n",
       "      <td>11.0</td>\n",
       "      <td>140000</td>\n",
       "    </tr>\n",
       "    <tr>\n",
       "      <th>31</th>\n",
       "      <td>12.0</td>\n",
       "      <td>155000</td>\n",
       "    </tr>\n",
       "    <tr>\n",
       "      <th>32</th>\n",
       "      <td>13.0</td>\n",
       "      <td>156000</td>\n",
       "    </tr>\n",
       "  </tbody>\n",
       "</table>\n",
       "</div>"
      ],
      "text/plain": [
       "    YearsExperience  Salary\n",
       "28             10.3  122391\n",
       "29             10.5  121872\n",
       "30             11.0  140000\n",
       "31             12.0  155000\n",
       "32             13.0  156000"
      ]
     },
     "execution_count": 93,
     "metadata": {},
     "output_type": "execute_result"
    }
   ],
   "source": [
    "df.tail(5)"
   ]
  },
  {
   "cell_type": "code",
   "execution_count": 94,
   "id": "bd320a70-19ca-4e88-bd20-e8766128e0db",
   "metadata": {},
   "outputs": [
    {
     "data": {
      "text/html": [
       "<div>\n",
       "<style scoped>\n",
       "    .dataframe tbody tr th:only-of-type {\n",
       "        vertical-align: middle;\n",
       "    }\n",
       "\n",
       "    .dataframe tbody tr th {\n",
       "        vertical-align: top;\n",
       "    }\n",
       "\n",
       "    .dataframe thead th {\n",
       "        text-align: right;\n",
       "    }\n",
       "</style>\n",
       "<table border=\"1\" class=\"dataframe\">\n",
       "  <thead>\n",
       "    <tr style=\"text-align: right;\">\n",
       "      <th></th>\n",
       "      <th>YearsExperience</th>\n",
       "      <th>Salary</th>\n",
       "    </tr>\n",
       "  </thead>\n",
       "  <tbody>\n",
       "    <tr>\n",
       "      <th>23</th>\n",
       "      <td>8.2</td>\n",
       "      <td>113812</td>\n",
       "    </tr>\n",
       "    <tr>\n",
       "      <th>24</th>\n",
       "      <td>8.7</td>\n",
       "      <td>109431</td>\n",
       "    </tr>\n",
       "    <tr>\n",
       "      <th>25</th>\n",
       "      <td>9.0</td>\n",
       "      <td>105582</td>\n",
       "    </tr>\n",
       "    <tr>\n",
       "      <th>26</th>\n",
       "      <td>9.5</td>\n",
       "      <td>116969</td>\n",
       "    </tr>\n",
       "    <tr>\n",
       "      <th>27</th>\n",
       "      <td>9.6</td>\n",
       "      <td>112635</td>\n",
       "    </tr>\n",
       "    <tr>\n",
       "      <th>28</th>\n",
       "      <td>10.3</td>\n",
       "      <td>122391</td>\n",
       "    </tr>\n",
       "    <tr>\n",
       "      <th>29</th>\n",
       "      <td>10.5</td>\n",
       "      <td>121872</td>\n",
       "    </tr>\n",
       "    <tr>\n",
       "      <th>30</th>\n",
       "      <td>11.0</td>\n",
       "      <td>140000</td>\n",
       "    </tr>\n",
       "    <tr>\n",
       "      <th>31</th>\n",
       "      <td>12.0</td>\n",
       "      <td>155000</td>\n",
       "    </tr>\n",
       "    <tr>\n",
       "      <th>32</th>\n",
       "      <td>13.0</td>\n",
       "      <td>156000</td>\n",
       "    </tr>\n",
       "  </tbody>\n",
       "</table>\n",
       "</div>"
      ],
      "text/plain": [
       "    YearsExperience  Salary\n",
       "23              8.2  113812\n",
       "24              8.7  109431\n",
       "25              9.0  105582\n",
       "26              9.5  116969\n",
       "27              9.6  112635\n",
       "28             10.3  122391\n",
       "29             10.5  121872\n",
       "30             11.0  140000\n",
       "31             12.0  155000\n",
       "32             13.0  156000"
      ]
     },
     "execution_count": 94,
     "metadata": {},
     "output_type": "execute_result"
    }
   ],
   "source": [
    "df.tail(10)"
   ]
  },
  {
   "cell_type": "code",
   "execution_count": 95,
   "id": "98b274f2-bce5-4c8d-a9d5-308c7c4612db",
   "metadata": {},
   "outputs": [
    {
     "data": {
      "text/plain": [
       "Index(['YearsExperience', 'Salary'], dtype='object')"
      ]
     },
     "execution_count": 95,
     "metadata": {},
     "output_type": "execute_result"
    }
   ],
   "source": [
    "df.columns"
   ]
  },
  {
   "cell_type": "code",
   "execution_count": 96,
   "id": "10854d64-0a8c-4572-8fd7-3a048d31c27d",
   "metadata": {},
   "outputs": [
    {
     "data": {
      "text/plain": [
       "(33, 2)"
      ]
     },
     "execution_count": 96,
     "metadata": {},
     "output_type": "execute_result"
    }
   ],
   "source": [
    "df.shape"
   ]
  },
  {
   "cell_type": "code",
   "execution_count": 97,
   "id": "81d7a131-f5ce-4a8a-aa66-e1ee49471609",
   "metadata": {},
   "outputs": [
    {
     "data": {
      "text/html": [
       "<div>\n",
       "<style scoped>\n",
       "    .dataframe tbody tr th:only-of-type {\n",
       "        vertical-align: middle;\n",
       "    }\n",
       "\n",
       "    .dataframe tbody tr th {\n",
       "        vertical-align: top;\n",
       "    }\n",
       "\n",
       "    .dataframe thead th {\n",
       "        text-align: right;\n",
       "    }\n",
       "</style>\n",
       "<table border=\"1\" class=\"dataframe\">\n",
       "  <thead>\n",
       "    <tr style=\"text-align: right;\">\n",
       "      <th></th>\n",
       "      <th>YearsExperience</th>\n",
       "      <th>Salary</th>\n",
       "    </tr>\n",
       "  </thead>\n",
       "  <tbody>\n",
       "    <tr>\n",
       "      <th>count</th>\n",
       "      <td>33.000000</td>\n",
       "      <td>33.000000</td>\n",
       "    </tr>\n",
       "    <tr>\n",
       "      <th>mean</th>\n",
       "      <td>5.921212</td>\n",
       "      <td>82760.303030</td>\n",
       "    </tr>\n",
       "    <tr>\n",
       "      <th>std</th>\n",
       "      <td>3.342413</td>\n",
       "      <td>34014.620992</td>\n",
       "    </tr>\n",
       "    <tr>\n",
       "      <th>min</th>\n",
       "      <td>1.100000</td>\n",
       "      <td>37731.000000</td>\n",
       "    </tr>\n",
       "    <tr>\n",
       "      <th>25%</th>\n",
       "      <td>3.200000</td>\n",
       "      <td>56957.000000</td>\n",
       "    </tr>\n",
       "    <tr>\n",
       "      <th>50%</th>\n",
       "      <td>5.100000</td>\n",
       "      <td>67938.000000</td>\n",
       "    </tr>\n",
       "    <tr>\n",
       "      <th>75%</th>\n",
       "      <td>8.700000</td>\n",
       "      <td>109431.000000</td>\n",
       "    </tr>\n",
       "    <tr>\n",
       "      <th>max</th>\n",
       "      <td>13.000000</td>\n",
       "      <td>156000.000000</td>\n",
       "    </tr>\n",
       "  </tbody>\n",
       "</table>\n",
       "</div>"
      ],
      "text/plain": [
       "       YearsExperience         Salary\n",
       "count        33.000000      33.000000\n",
       "mean          5.921212   82760.303030\n",
       "std           3.342413   34014.620992\n",
       "min           1.100000   37731.000000\n",
       "25%           3.200000   56957.000000\n",
       "50%           5.100000   67938.000000\n",
       "75%           8.700000  109431.000000\n",
       "max          13.000000  156000.000000"
      ]
     },
     "execution_count": 97,
     "metadata": {},
     "output_type": "execute_result"
    }
   ],
   "source": [
    "df.describe()"
   ]
  },
  {
   "cell_type": "code",
   "execution_count": 98,
   "id": "9212d024-a217-4009-9824-ad469b0ef0cc",
   "metadata": {},
   "outputs": [
    {
     "name": "stdout",
     "output_type": "stream",
     "text": [
      "<class 'pandas.core.frame.DataFrame'>\n",
      "RangeIndex: 33 entries, 0 to 32\n",
      "Data columns (total 2 columns):\n",
      " #   Column           Non-Null Count  Dtype  \n",
      "---  ------           --------------  -----  \n",
      " 0   YearsExperience  33 non-null     float64\n",
      " 1   Salary           33 non-null     int64  \n",
      "dtypes: float64(1), int64(1)\n",
      "memory usage: 656.0 bytes\n"
     ]
    }
   ],
   "source": [
    "df.info()"
   ]
  },
  {
   "cell_type": "code",
   "execution_count": 102,
   "id": "2dddb370-b864-49ae-a2a0-d8af77ebfc10",
   "metadata": {},
   "outputs": [],
   "source": [
    "import matplotlib.pyplot as plt\n"
   ]
  },
  {
   "cell_type": "code",
   "execution_count": 104,
   "id": "ac6177b4-3111-485e-80fd-9a5521439cfd",
   "metadata": {},
   "outputs": [
    {
     "data": {
      "text/plain": [
       "Text(0.5, 1.0, 'YearsExperience vs salary')"
      ]
     },
     "execution_count": 104,
     "metadata": {},
     "output_type": "execute_result"
    },
    {
     "data": {
      "image/png": "[encoded data removed]",
      "text/plain": [
       "<Figure size 640x480 with 1 Axes>"
      ]
     },
     "metadata": {},
     "output_type": "display_data"
    }
   ],
   "source": [
    "plt.plot(df['YearsExperience'],df['Salary'])\n",
    "plt.xlabel(df['YearsExperience'])\n",
    "plt.ylabel(df['Salary'])\n",
    "plt.title('YearsExperience vs salary')"
   ]
  },
  {
   "cell_type": "code",
   "execution_count": 111,
   "id": "836d389b-1d37-4f3c-94dc-cef401f0fcd1",
   "metadata": {},
   "outputs": [
    {
     "name": "stdout",
     "output_type": "stream",
     "text": [
      "YearsExperience    float64\n",
      "Salary               int64\n",
      "dtype: object\n"
     ]
    }
   ],
   "source": [
    "datatype=df.dtypes\n",
    "print(datatype)"
   ]
  },
  {
   "cell_type": "code",
   "execution_count": 112,
   "id": "c961780f-adae-4481-917b-79fbcea4a29d",
   "metadata": {},
   "outputs": [
    {
     "data": {
      "text/plain": [
       "min     1.100000\n",
       "max    13.000000\n",
       "std     3.342413\n",
       "Name: YearsExperience, dtype: float64"
      ]
     },
     "execution_count": 112,
     "metadata": {},
     "output_type": "execute_result"
    }
   ],
   "source": [
    "df.describe().loc[['min','max','std'],'YearsExperience']"
   ]
  },
  {
   "cell_type": "code",
   "execution_count": 114,
   "id": "879e1d00-2770-489f-9931-2ac4f05d7b96",
   "metadata": {},
   "outputs": [
    {
     "data": {
      "text/plain": [
       "min     37731.000000\n",
       "max    156000.000000\n",
       "std     34014.620992\n",
       "Name: Salary, dtype: float64"
      ]
     },
     "execution_count": 114,
     "metadata": {},
     "output_type": "execute_result"
    }
   ],
   "source": [
    "df.describe().loc[['min','max','std'],'Salary']"
   ]
  },
  {
   "cell_type": "code",
   "execution_count": null,
   "id": "fff08e33-0bda-4fb3-b728-7f6189d8c13c",
   "metadata": {},
   "outputs": [],
   "source": []
  }
 ],
 "metadata": {
  "kernelspec": {
   "display_name": "Python 3 (ipykernel)",
   "language": "python",
   "name": "python3"
  },
  "language_info": {
   "codemirror_mode": {
    "name": "ipython",
    "version": 3
   },
   "file_extension": ".py",
   "mimetype": "text/x-python",
   "name": "python",
   "nbconvert_exporter": "python",
   "pygments_lexer": "ipython3",
   "version": "3.10.12"
  }
 },
 "nbformat": 4,
 "nbformat_minor": 5
}
